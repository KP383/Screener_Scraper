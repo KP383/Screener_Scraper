{
 "cells": [
  {
   "cell_type": "code",
   "execution_count": 1,
   "id": "e73f626f",
   "metadata": {},
   "outputs": [],
   "source": [
    "import numpy as np\n",
    "import pandas as pd"
   ]
  },
  {
   "cell_type": "code",
   "execution_count": 2,
   "id": "8c71e33d",
   "metadata": {},
   "outputs": [],
   "source": [
    "stock_name_data = pd.read_excel('MCAP31122022_3.xlsx')"
   ]
  },
  {
   "cell_type": "code",
   "execution_count": 3,
   "id": "843ea405",
   "metadata": {},
   "outputs": [],
   "source": [
    "stock_link = []\n",
    "\n",
    "for i in range(len(stock_name_data)):\n",
    "    stock_link.append(\"https://www.screener.in/company/\" + stock_name_data['Symbol'][i] + '/') "
   ]
  },
  {
   "cell_type": "code",
   "execution_count": 4,
   "id": "99078880",
   "metadata": {},
   "outputs": [],
   "source": [
    "stock_name_data['Link'] = stock_link"
   ]
  },
  {
   "cell_type": "code",
   "execution_count": 6,
   "id": "2468f425",
   "metadata": {},
   "outputs": [],
   "source": [
    "stock_name_data.to_csv('all_stock_data.csv', index=False)"
   ]
  }
 ],
 "metadata": {
  "kernelspec": {
   "display_name": "Python 3 (ipykernel)",
   "language": "python",
   "name": "python3"
  },
  "language_info": {
   "codemirror_mode": {
    "name": "ipython",
    "version": 3
   },
   "file_extension": ".py",
   "mimetype": "text/x-python",
   "name": "python",
   "nbconvert_exporter": "python",
   "pygments_lexer": "ipython3",
   "version": "3.9.13"
  }
 },
 "nbformat": 4,
 "nbformat_minor": 5
}
