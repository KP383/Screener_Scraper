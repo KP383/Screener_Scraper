{
 "cells": [
  {
   "cell_type": "code",
   "execution_count": 60,
   "id": "8908fe39",
   "metadata": {},
   "outputs": [],
   "source": [
    "from bs4 import BeautifulSoup\n",
    "import pandas as pd"
   ]
  },
  {
   "cell_type": "code",
   "execution_count": 82,
   "id": "914bd9ec",
   "metadata": {},
   "outputs": [],
   "source": [
    "def comma_remover_and_int_converter(comma_str):\n",
    "    if comma_str == '':\n",
    "        return 0\n",
    "    if comma_str.find(',') != (-1):\n",
    "        comma_str = (comma_str.replace(',', ''))\n",
    "    if comma_str.find('.') != (-1):\n",
    "        comma_str = float(comma_str)\n",
    "    else:\n",
    "        comma_str = int(comma_str)\n",
    "    return comma_str"
   ]
  },
  {
   "cell_type": "code",
   "execution_count": 62,
   "id": "e7c66cb0",
   "metadata": {},
   "outputs": [],
   "source": [
    "stocks = pd.read_csv('all_stock_data.csv')"
   ]
  },
  {
   "cell_type": "code",
   "execution_count": 92,
   "id": "a1eac52f",
   "metadata": {},
   "outputs": [],
   "source": [
    "cols = ['Company Name', 'Company Symbol', 'Marketcap', 'Current Price', '52 Week High', '52 Week Low', 'PE Ratio', 'Book Value', 'Dividend Yield', 'ROCE', 'ROE', 'Face Value', 'Sales', 'Sales Qtr', 'Profit after tax', 'PAT Qtr', 'Qtr Sales Var', 'Qtr Profit Var', 'Dividend yield', 'Price to book value', 'Return on assets', 'Debt to equity', 'EPS', 'Debt', 'Promoter holding', 'Change in Prom Hold', 'Enterprise Value', 'Industry PE', 'EVEBITDA']\n",
    "main_data = pd.DataFrame(columns=cols)"
   ]
  },
  {
   "cell_type": "code",
   "execution_count": 93,
   "id": "69ee72d1",
   "metadata": {},
   "outputs": [
    {
     "name": "stderr",
     "output_type": "stream",
     "text": [
      "/var/folders/rq/rl4qmvpx22jg0wx1l021ysr80000gn/T/ipykernel_7274/970580233.py:25: FutureWarning: The frame.append method is deprecated and will be removed from pandas in a future version. Use pandas.concat instead.\n",
      "  main_data = main_data.append(pd.DataFrame([row], columns=cols), ignore_index=True)\n",
      "/var/folders/rq/rl4qmvpx22jg0wx1l021ysr80000gn/T/ipykernel_7274/970580233.py:25: FutureWarning: The frame.append method is deprecated and will be removed from pandas in a future version. Use pandas.concat instead.\n",
      "  main_data = main_data.append(pd.DataFrame([row], columns=cols), ignore_index=True)\n",
      "/var/folders/rq/rl4qmvpx22jg0wx1l021ysr80000gn/T/ipykernel_7274/970580233.py:25: FutureWarning: The frame.append method is deprecated and will be removed from pandas in a future version. Use pandas.concat instead.\n",
      "  main_data = main_data.append(pd.DataFrame([row], columns=cols), ignore_index=True)\n",
      "/var/folders/rq/rl4qmvpx22jg0wx1l021ysr80000gn/T/ipykernel_7274/970580233.py:25: FutureWarning: The frame.append method is deprecated and will be removed from pandas in a future version. Use pandas.concat instead.\n",
      "  main_data = main_data.append(pd.DataFrame([row], columns=cols), ignore_index=True)\n",
      "/var/folders/rq/rl4qmvpx22jg0wx1l021ysr80000gn/T/ipykernel_7274/970580233.py:25: FutureWarning: The frame.append method is deprecated and will be removed from pandas in a future version. Use pandas.concat instead.\n",
      "  main_data = main_data.append(pd.DataFrame([row], columns=cols), ignore_index=True)\n",
      "/var/folders/rq/rl4qmvpx22jg0wx1l021ysr80000gn/T/ipykernel_7274/970580233.py:25: FutureWarning: The frame.append method is deprecated and will be removed from pandas in a future version. Use pandas.concat instead.\n",
      "  main_data = main_data.append(pd.DataFrame([row], columns=cols), ignore_index=True)\n",
      "/var/folders/rq/rl4qmvpx22jg0wx1l021ysr80000gn/T/ipykernel_7274/970580233.py:25: FutureWarning: The frame.append method is deprecated and will be removed from pandas in a future version. Use pandas.concat instead.\n",
      "  main_data = main_data.append(pd.DataFrame([row], columns=cols), ignore_index=True)\n",
      "/var/folders/rq/rl4qmvpx22jg0wx1l021ysr80000gn/T/ipykernel_7274/970580233.py:25: FutureWarning: The frame.append method is deprecated and will be removed from pandas in a future version. Use pandas.concat instead.\n",
      "  main_data = main_data.append(pd.DataFrame([row], columns=cols), ignore_index=True)\n",
      "/var/folders/rq/rl4qmvpx22jg0wx1l021ysr80000gn/T/ipykernel_7274/970580233.py:25: FutureWarning: The frame.append method is deprecated and will be removed from pandas in a future version. Use pandas.concat instead.\n",
      "  main_data = main_data.append(pd.DataFrame([row], columns=cols), ignore_index=True)\n",
      "/var/folders/rq/rl4qmvpx22jg0wx1l021ysr80000gn/T/ipykernel_7274/970580233.py:25: FutureWarning: The frame.append method is deprecated and will be removed from pandas in a future version. Use pandas.concat instead.\n",
      "  main_data = main_data.append(pd.DataFrame([row], columns=cols), ignore_index=True)\n",
      "/var/folders/rq/rl4qmvpx22jg0wx1l021ysr80000gn/T/ipykernel_7274/970580233.py:25: FutureWarning: The frame.append method is deprecated and will be removed from pandas in a future version. Use pandas.concat instead.\n",
      "  main_data = main_data.append(pd.DataFrame([row], columns=cols), ignore_index=True)\n",
      "/var/folders/rq/rl4qmvpx22jg0wx1l021ysr80000gn/T/ipykernel_7274/970580233.py:25: FutureWarning: The frame.append method is deprecated and will be removed from pandas in a future version. Use pandas.concat instead.\n",
      "  main_data = main_data.append(pd.DataFrame([row], columns=cols), ignore_index=True)\n",
      "/var/folders/rq/rl4qmvpx22jg0wx1l021ysr80000gn/T/ipykernel_7274/970580233.py:25: FutureWarning: The frame.append method is deprecated and will be removed from pandas in a future version. Use pandas.concat instead.\n",
      "  main_data = main_data.append(pd.DataFrame([row], columns=cols), ignore_index=True)\n",
      "/var/folders/rq/rl4qmvpx22jg0wx1l021ysr80000gn/T/ipykernel_7274/970580233.py:25: FutureWarning: The frame.append method is deprecated and will be removed from pandas in a future version. Use pandas.concat instead.\n",
      "  main_data = main_data.append(pd.DataFrame([row], columns=cols), ignore_index=True)\n",
      "/var/folders/rq/rl4qmvpx22jg0wx1l021ysr80000gn/T/ipykernel_7274/970580233.py:25: FutureWarning: The frame.append method is deprecated and will be removed from pandas in a future version. Use pandas.concat instead.\n",
      "  main_data = main_data.append(pd.DataFrame([row], columns=cols), ignore_index=True)\n",
      "/var/folders/rq/rl4qmvpx22jg0wx1l021ysr80000gn/T/ipykernel_7274/970580233.py:25: FutureWarning: The frame.append method is deprecated and will be removed from pandas in a future version. Use pandas.concat instead.\n",
      "  main_data = main_data.append(pd.DataFrame([row], columns=cols), ignore_index=True)\n",
      "/var/folders/rq/rl4qmvpx22jg0wx1l021ysr80000gn/T/ipykernel_7274/970580233.py:25: FutureWarning: The frame.append method is deprecated and will be removed from pandas in a future version. Use pandas.concat instead.\n",
      "  main_data = main_data.append(pd.DataFrame([row], columns=cols), ignore_index=True)\n",
      "/var/folders/rq/rl4qmvpx22jg0wx1l021ysr80000gn/T/ipykernel_7274/970580233.py:25: FutureWarning: The frame.append method is deprecated and will be removed from pandas in a future version. Use pandas.concat instead.\n",
      "  main_data = main_data.append(pd.DataFrame([row], columns=cols), ignore_index=True)\n",
      "/var/folders/rq/rl4qmvpx22jg0wx1l021ysr80000gn/T/ipykernel_7274/970580233.py:25: FutureWarning: The frame.append method is deprecated and will be removed from pandas in a future version. Use pandas.concat instead.\n",
      "  main_data = main_data.append(pd.DataFrame([row], columns=cols), ignore_index=True)\n",
      "/var/folders/rq/rl4qmvpx22jg0wx1l021ysr80000gn/T/ipykernel_7274/970580233.py:25: FutureWarning: The frame.append method is deprecated and will be removed from pandas in a future version. Use pandas.concat instead.\n",
      "  main_data = main_data.append(pd.DataFrame([row], columns=cols), ignore_index=True)\n",
      "/var/folders/rq/rl4qmvpx22jg0wx1l021ysr80000gn/T/ipykernel_7274/970580233.py:25: FutureWarning: The frame.append method is deprecated and will be removed from pandas in a future version. Use pandas.concat instead.\n",
      "  main_data = main_data.append(pd.DataFrame([row], columns=cols), ignore_index=True)\n",
      "/var/folders/rq/rl4qmvpx22jg0wx1l021ysr80000gn/T/ipykernel_7274/970580233.py:25: FutureWarning: The frame.append method is deprecated and will be removed from pandas in a future version. Use pandas.concat instead.\n",
      "  main_data = main_data.append(pd.DataFrame([row], columns=cols), ignore_index=True)\n",
      "/var/folders/rq/rl4qmvpx22jg0wx1l021ysr80000gn/T/ipykernel_7274/970580233.py:25: FutureWarning: The frame.append method is deprecated and will be removed from pandas in a future version. Use pandas.concat instead.\n",
      "  main_data = main_data.append(pd.DataFrame([row], columns=cols), ignore_index=True)\n",
      "/var/folders/rq/rl4qmvpx22jg0wx1l021ysr80000gn/T/ipykernel_7274/970580233.py:25: FutureWarning: The frame.append method is deprecated and will be removed from pandas in a future version. Use pandas.concat instead.\n",
      "  main_data = main_data.append(pd.DataFrame([row], columns=cols), ignore_index=True)\n",
      "/var/folders/rq/rl4qmvpx22jg0wx1l021ysr80000gn/T/ipykernel_7274/970580233.py:25: FutureWarning: The frame.append method is deprecated and will be removed from pandas in a future version. Use pandas.concat instead.\n",
      "  main_data = main_data.append(pd.DataFrame([row], columns=cols), ignore_index=True)\n",
      "/var/folders/rq/rl4qmvpx22jg0wx1l021ysr80000gn/T/ipykernel_7274/970580233.py:25: FutureWarning: The frame.append method is deprecated and will be removed from pandas in a future version. Use pandas.concat instead.\n",
      "  main_data = main_data.append(pd.DataFrame([row], columns=cols), ignore_index=True)\n",
      "/var/folders/rq/rl4qmvpx22jg0wx1l021ysr80000gn/T/ipykernel_7274/970580233.py:25: FutureWarning: The frame.append method is deprecated and will be removed from pandas in a future version. Use pandas.concat instead.\n",
      "  main_data = main_data.append(pd.DataFrame([row], columns=cols), ignore_index=True)\n",
      "/var/folders/rq/rl4qmvpx22jg0wx1l021ysr80000gn/T/ipykernel_7274/970580233.py:25: FutureWarning: The frame.append method is deprecated and will be removed from pandas in a future version. Use pandas.concat instead.\n",
      "  main_data = main_data.append(pd.DataFrame([row], columns=cols), ignore_index=True)\n",
      "/var/folders/rq/rl4qmvpx22jg0wx1l021ysr80000gn/T/ipykernel_7274/970580233.py:25: FutureWarning: The frame.append method is deprecated and will be removed from pandas in a future version. Use pandas.concat instead.\n",
      "  main_data = main_data.append(pd.DataFrame([row], columns=cols), ignore_index=True)\n"
     ]
    },
    {
     "name": "stderr",
     "output_type": "stream",
     "text": [
      "/var/folders/rq/rl4qmvpx22jg0wx1l021ysr80000gn/T/ipykernel_7274/970580233.py:25: FutureWarning: The frame.append method is deprecated and will be removed from pandas in a future version. Use pandas.concat instead.\n",
      "  main_data = main_data.append(pd.DataFrame([row], columns=cols), ignore_index=True)\n",
      "/var/folders/rq/rl4qmvpx22jg0wx1l021ysr80000gn/T/ipykernel_7274/970580233.py:25: FutureWarning: The frame.append method is deprecated and will be removed from pandas in a future version. Use pandas.concat instead.\n",
      "  main_data = main_data.append(pd.DataFrame([row], columns=cols), ignore_index=True)\n",
      "/var/folders/rq/rl4qmvpx22jg0wx1l021ysr80000gn/T/ipykernel_7274/970580233.py:25: FutureWarning: The frame.append method is deprecated and will be removed from pandas in a future version. Use pandas.concat instead.\n",
      "  main_data = main_data.append(pd.DataFrame([row], columns=cols), ignore_index=True)\n",
      "/var/folders/rq/rl4qmvpx22jg0wx1l021ysr80000gn/T/ipykernel_7274/970580233.py:25: FutureWarning: The frame.append method is deprecated and will be removed from pandas in a future version. Use pandas.concat instead.\n",
      "  main_data = main_data.append(pd.DataFrame([row], columns=cols), ignore_index=True)\n",
      "/var/folders/rq/rl4qmvpx22jg0wx1l021ysr80000gn/T/ipykernel_7274/970580233.py:25: FutureWarning: The frame.append method is deprecated and will be removed from pandas in a future version. Use pandas.concat instead.\n",
      "  main_data = main_data.append(pd.DataFrame([row], columns=cols), ignore_index=True)\n",
      "/var/folders/rq/rl4qmvpx22jg0wx1l021ysr80000gn/T/ipykernel_7274/970580233.py:25: FutureWarning: The frame.append method is deprecated and will be removed from pandas in a future version. Use pandas.concat instead.\n",
      "  main_data = main_data.append(pd.DataFrame([row], columns=cols), ignore_index=True)\n",
      "/var/folders/rq/rl4qmvpx22jg0wx1l021ysr80000gn/T/ipykernel_7274/970580233.py:25: FutureWarning: The frame.append method is deprecated and will be removed from pandas in a future version. Use pandas.concat instead.\n",
      "  main_data = main_data.append(pd.DataFrame([row], columns=cols), ignore_index=True)\n",
      "/var/folders/rq/rl4qmvpx22jg0wx1l021ysr80000gn/T/ipykernel_7274/970580233.py:25: FutureWarning: The frame.append method is deprecated and will be removed from pandas in a future version. Use pandas.concat instead.\n",
      "  main_data = main_data.append(pd.DataFrame([row], columns=cols), ignore_index=True)\n",
      "/var/folders/rq/rl4qmvpx22jg0wx1l021ysr80000gn/T/ipykernel_7274/970580233.py:25: FutureWarning: The frame.append method is deprecated and will be removed from pandas in a future version. Use pandas.concat instead.\n",
      "  main_data = main_data.append(pd.DataFrame([row], columns=cols), ignore_index=True)\n",
      "/var/folders/rq/rl4qmvpx22jg0wx1l021ysr80000gn/T/ipykernel_7274/970580233.py:25: FutureWarning: The frame.append method is deprecated and will be removed from pandas in a future version. Use pandas.concat instead.\n",
      "  main_data = main_data.append(pd.DataFrame([row], columns=cols), ignore_index=True)\n",
      "/var/folders/rq/rl4qmvpx22jg0wx1l021ysr80000gn/T/ipykernel_7274/970580233.py:25: FutureWarning: The frame.append method is deprecated and will be removed from pandas in a future version. Use pandas.concat instead.\n",
      "  main_data = main_data.append(pd.DataFrame([row], columns=cols), ignore_index=True)\n",
      "/var/folders/rq/rl4qmvpx22jg0wx1l021ysr80000gn/T/ipykernel_7274/970580233.py:25: FutureWarning: The frame.append method is deprecated and will be removed from pandas in a future version. Use pandas.concat instead.\n",
      "  main_data = main_data.append(pd.DataFrame([row], columns=cols), ignore_index=True)\n",
      "/var/folders/rq/rl4qmvpx22jg0wx1l021ysr80000gn/T/ipykernel_7274/970580233.py:25: FutureWarning: The frame.append method is deprecated and will be removed from pandas in a future version. Use pandas.concat instead.\n",
      "  main_data = main_data.append(pd.DataFrame([row], columns=cols), ignore_index=True)\n",
      "/var/folders/rq/rl4qmvpx22jg0wx1l021ysr80000gn/T/ipykernel_7274/970580233.py:25: FutureWarning: The frame.append method is deprecated and will be removed from pandas in a future version. Use pandas.concat instead.\n",
      "  main_data = main_data.append(pd.DataFrame([row], columns=cols), ignore_index=True)\n",
      "/var/folders/rq/rl4qmvpx22jg0wx1l021ysr80000gn/T/ipykernel_7274/970580233.py:25: FutureWarning: The frame.append method is deprecated and will be removed from pandas in a future version. Use pandas.concat instead.\n",
      "  main_data = main_data.append(pd.DataFrame([row], columns=cols), ignore_index=True)\n",
      "/var/folders/rq/rl4qmvpx22jg0wx1l021ysr80000gn/T/ipykernel_7274/970580233.py:25: FutureWarning: The frame.append method is deprecated and will be removed from pandas in a future version. Use pandas.concat instead.\n",
      "  main_data = main_data.append(pd.DataFrame([row], columns=cols), ignore_index=True)\n",
      "/var/folders/rq/rl4qmvpx22jg0wx1l021ysr80000gn/T/ipykernel_7274/970580233.py:25: FutureWarning: The frame.append method is deprecated and will be removed from pandas in a future version. Use pandas.concat instead.\n",
      "  main_data = main_data.append(pd.DataFrame([row], columns=cols), ignore_index=True)\n",
      "/var/folders/rq/rl4qmvpx22jg0wx1l021ysr80000gn/T/ipykernel_7274/970580233.py:25: FutureWarning: The frame.append method is deprecated and will be removed from pandas in a future version. Use pandas.concat instead.\n",
      "  main_data = main_data.append(pd.DataFrame([row], columns=cols), ignore_index=True)\n",
      "/var/folders/rq/rl4qmvpx22jg0wx1l021ysr80000gn/T/ipykernel_7274/970580233.py:25: FutureWarning: The frame.append method is deprecated and will be removed from pandas in a future version. Use pandas.concat instead.\n",
      "  main_data = main_data.append(pd.DataFrame([row], columns=cols), ignore_index=True)\n",
      "/var/folders/rq/rl4qmvpx22jg0wx1l021ysr80000gn/T/ipykernel_7274/970580233.py:25: FutureWarning: The frame.append method is deprecated and will be removed from pandas in a future version. Use pandas.concat instead.\n",
      "  main_data = main_data.append(pd.DataFrame([row], columns=cols), ignore_index=True)\n",
      "/var/folders/rq/rl4qmvpx22jg0wx1l021ysr80000gn/T/ipykernel_7274/970580233.py:25: FutureWarning: The frame.append method is deprecated and will be removed from pandas in a future version. Use pandas.concat instead.\n",
      "  main_data = main_data.append(pd.DataFrame([row], columns=cols), ignore_index=True)\n",
      "/var/folders/rq/rl4qmvpx22jg0wx1l021ysr80000gn/T/ipykernel_7274/970580233.py:25: FutureWarning: The frame.append method is deprecated and will be removed from pandas in a future version. Use pandas.concat instead.\n",
      "  main_data = main_data.append(pd.DataFrame([row], columns=cols), ignore_index=True)\n",
      "/var/folders/rq/rl4qmvpx22jg0wx1l021ysr80000gn/T/ipykernel_7274/970580233.py:25: FutureWarning: The frame.append method is deprecated and will be removed from pandas in a future version. Use pandas.concat instead.\n",
      "  main_data = main_data.append(pd.DataFrame([row], columns=cols), ignore_index=True)\n",
      "/var/folders/rq/rl4qmvpx22jg0wx1l021ysr80000gn/T/ipykernel_7274/970580233.py:25: FutureWarning: The frame.append method is deprecated and will be removed from pandas in a future version. Use pandas.concat instead.\n",
      "  main_data = main_data.append(pd.DataFrame([row], columns=cols), ignore_index=True)\n",
      "/var/folders/rq/rl4qmvpx22jg0wx1l021ysr80000gn/T/ipykernel_7274/970580233.py:25: FutureWarning: The frame.append method is deprecated and will be removed from pandas in a future version. Use pandas.concat instead.\n",
      "  main_data = main_data.append(pd.DataFrame([row], columns=cols), ignore_index=True)\n",
      "/var/folders/rq/rl4qmvpx22jg0wx1l021ysr80000gn/T/ipykernel_7274/970580233.py:25: FutureWarning: The frame.append method is deprecated and will be removed from pandas in a future version. Use pandas.concat instead.\n",
      "  main_data = main_data.append(pd.DataFrame([row], columns=cols), ignore_index=True)\n",
      "/var/folders/rq/rl4qmvpx22jg0wx1l021ysr80000gn/T/ipykernel_7274/970580233.py:25: FutureWarning: The frame.append method is deprecated and will be removed from pandas in a future version. Use pandas.concat instead.\n",
      "  main_data = main_data.append(pd.DataFrame([row], columns=cols), ignore_index=True)\n",
      "/var/folders/rq/rl4qmvpx22jg0wx1l021ysr80000gn/T/ipykernel_7274/970580233.py:25: FutureWarning: The frame.append method is deprecated and will be removed from pandas in a future version. Use pandas.concat instead.\n",
      "  main_data = main_data.append(pd.DataFrame([row], columns=cols), ignore_index=True)\n",
      "/var/folders/rq/rl4qmvpx22jg0wx1l021ysr80000gn/T/ipykernel_7274/970580233.py:25: FutureWarning: The frame.append method is deprecated and will be removed from pandas in a future version. Use pandas.concat instead.\n",
      "  main_data = main_data.append(pd.DataFrame([row], columns=cols), ignore_index=True)\n"
     ]
    },
    {
     "name": "stderr",
     "output_type": "stream",
     "text": [
      "/var/folders/rq/rl4qmvpx22jg0wx1l021ysr80000gn/T/ipykernel_7274/970580233.py:25: FutureWarning: The frame.append method is deprecated and will be removed from pandas in a future version. Use pandas.concat instead.\n",
      "  main_data = main_data.append(pd.DataFrame([row], columns=cols), ignore_index=True)\n",
      "/var/folders/rq/rl4qmvpx22jg0wx1l021ysr80000gn/T/ipykernel_7274/970580233.py:25: FutureWarning: The frame.append method is deprecated and will be removed from pandas in a future version. Use pandas.concat instead.\n",
      "  main_data = main_data.append(pd.DataFrame([row], columns=cols), ignore_index=True)\n",
      "/var/folders/rq/rl4qmvpx22jg0wx1l021ysr80000gn/T/ipykernel_7274/970580233.py:25: FutureWarning: The frame.append method is deprecated and will be removed from pandas in a future version. Use pandas.concat instead.\n",
      "  main_data = main_data.append(pd.DataFrame([row], columns=cols), ignore_index=True)\n",
      "/var/folders/rq/rl4qmvpx22jg0wx1l021ysr80000gn/T/ipykernel_7274/970580233.py:25: FutureWarning: The frame.append method is deprecated and will be removed from pandas in a future version. Use pandas.concat instead.\n",
      "  main_data = main_data.append(pd.DataFrame([row], columns=cols), ignore_index=True)\n",
      "/var/folders/rq/rl4qmvpx22jg0wx1l021ysr80000gn/T/ipykernel_7274/970580233.py:25: FutureWarning: The frame.append method is deprecated and will be removed from pandas in a future version. Use pandas.concat instead.\n",
      "  main_data = main_data.append(pd.DataFrame([row], columns=cols), ignore_index=True)\n",
      "/var/folders/rq/rl4qmvpx22jg0wx1l021ysr80000gn/T/ipykernel_7274/970580233.py:25: FutureWarning: The frame.append method is deprecated and will be removed from pandas in a future version. Use pandas.concat instead.\n",
      "  main_data = main_data.append(pd.DataFrame([row], columns=cols), ignore_index=True)\n",
      "/var/folders/rq/rl4qmvpx22jg0wx1l021ysr80000gn/T/ipykernel_7274/970580233.py:25: FutureWarning: The frame.append method is deprecated and will be removed from pandas in a future version. Use pandas.concat instead.\n",
      "  main_data = main_data.append(pd.DataFrame([row], columns=cols), ignore_index=True)\n",
      "/var/folders/rq/rl4qmvpx22jg0wx1l021ysr80000gn/T/ipykernel_7274/970580233.py:25: FutureWarning: The frame.append method is deprecated and will be removed from pandas in a future version. Use pandas.concat instead.\n",
      "  main_data = main_data.append(pd.DataFrame([row], columns=cols), ignore_index=True)\n",
      "/var/folders/rq/rl4qmvpx22jg0wx1l021ysr80000gn/T/ipykernel_7274/970580233.py:25: FutureWarning: The frame.append method is deprecated and will be removed from pandas in a future version. Use pandas.concat instead.\n",
      "  main_data = main_data.append(pd.DataFrame([row], columns=cols), ignore_index=True)\n",
      "/var/folders/rq/rl4qmvpx22jg0wx1l021ysr80000gn/T/ipykernel_7274/970580233.py:25: FutureWarning: The frame.append method is deprecated and will be removed from pandas in a future version. Use pandas.concat instead.\n",
      "  main_data = main_data.append(pd.DataFrame([row], columns=cols), ignore_index=True)\n",
      "/var/folders/rq/rl4qmvpx22jg0wx1l021ysr80000gn/T/ipykernel_7274/970580233.py:25: FutureWarning: The frame.append method is deprecated and will be removed from pandas in a future version. Use pandas.concat instead.\n",
      "  main_data = main_data.append(pd.DataFrame([row], columns=cols), ignore_index=True)\n",
      "/var/folders/rq/rl4qmvpx22jg0wx1l021ysr80000gn/T/ipykernel_7274/970580233.py:25: FutureWarning: The frame.append method is deprecated and will be removed from pandas in a future version. Use pandas.concat instead.\n",
      "  main_data = main_data.append(pd.DataFrame([row], columns=cols), ignore_index=True)\n",
      "/var/folders/rq/rl4qmvpx22jg0wx1l021ysr80000gn/T/ipykernel_7274/970580233.py:25: FutureWarning: The frame.append method is deprecated and will be removed from pandas in a future version. Use pandas.concat instead.\n",
      "  main_data = main_data.append(pd.DataFrame([row], columns=cols), ignore_index=True)\n",
      "/var/folders/rq/rl4qmvpx22jg0wx1l021ysr80000gn/T/ipykernel_7274/970580233.py:25: FutureWarning: The frame.append method is deprecated and will be removed from pandas in a future version. Use pandas.concat instead.\n",
      "  main_data = main_data.append(pd.DataFrame([row], columns=cols), ignore_index=True)\n",
      "/var/folders/rq/rl4qmvpx22jg0wx1l021ysr80000gn/T/ipykernel_7274/970580233.py:25: FutureWarning: The frame.append method is deprecated and will be removed from pandas in a future version. Use pandas.concat instead.\n",
      "  main_data = main_data.append(pd.DataFrame([row], columns=cols), ignore_index=True)\n",
      "/var/folders/rq/rl4qmvpx22jg0wx1l021ysr80000gn/T/ipykernel_7274/970580233.py:25: FutureWarning: The frame.append method is deprecated and will be removed from pandas in a future version. Use pandas.concat instead.\n",
      "  main_data = main_data.append(pd.DataFrame([row], columns=cols), ignore_index=True)\n",
      "/var/folders/rq/rl4qmvpx22jg0wx1l021ysr80000gn/T/ipykernel_7274/970580233.py:25: FutureWarning: The frame.append method is deprecated and will be removed from pandas in a future version. Use pandas.concat instead.\n",
      "  main_data = main_data.append(pd.DataFrame([row], columns=cols), ignore_index=True)\n",
      "/var/folders/rq/rl4qmvpx22jg0wx1l021ysr80000gn/T/ipykernel_7274/970580233.py:25: FutureWarning: The frame.append method is deprecated and will be removed from pandas in a future version. Use pandas.concat instead.\n",
      "  main_data = main_data.append(pd.DataFrame([row], columns=cols), ignore_index=True)\n",
      "/var/folders/rq/rl4qmvpx22jg0wx1l021ysr80000gn/T/ipykernel_7274/970580233.py:25: FutureWarning: The frame.append method is deprecated and will be removed from pandas in a future version. Use pandas.concat instead.\n",
      "  main_data = main_data.append(pd.DataFrame([row], columns=cols), ignore_index=True)\n",
      "/var/folders/rq/rl4qmvpx22jg0wx1l021ysr80000gn/T/ipykernel_7274/970580233.py:25: FutureWarning: The frame.append method is deprecated and will be removed from pandas in a future version. Use pandas.concat instead.\n",
      "  main_data = main_data.append(pd.DataFrame([row], columns=cols), ignore_index=True)\n",
      "/var/folders/rq/rl4qmvpx22jg0wx1l021ysr80000gn/T/ipykernel_7274/970580233.py:25: FutureWarning: The frame.append method is deprecated and will be removed from pandas in a future version. Use pandas.concat instead.\n",
      "  main_data = main_data.append(pd.DataFrame([row], columns=cols), ignore_index=True)\n",
      "/var/folders/rq/rl4qmvpx22jg0wx1l021ysr80000gn/T/ipykernel_7274/970580233.py:25: FutureWarning: The frame.append method is deprecated and will be removed from pandas in a future version. Use pandas.concat instead.\n",
      "  main_data = main_data.append(pd.DataFrame([row], columns=cols), ignore_index=True)\n",
      "/var/folders/rq/rl4qmvpx22jg0wx1l021ysr80000gn/T/ipykernel_7274/970580233.py:25: FutureWarning: The frame.append method is deprecated and will be removed from pandas in a future version. Use pandas.concat instead.\n",
      "  main_data = main_data.append(pd.DataFrame([row], columns=cols), ignore_index=True)\n",
      "/var/folders/rq/rl4qmvpx22jg0wx1l021ysr80000gn/T/ipykernel_7274/970580233.py:25: FutureWarning: The frame.append method is deprecated and will be removed from pandas in a future version. Use pandas.concat instead.\n",
      "  main_data = main_data.append(pd.DataFrame([row], columns=cols), ignore_index=True)\n",
      "/var/folders/rq/rl4qmvpx22jg0wx1l021ysr80000gn/T/ipykernel_7274/970580233.py:25: FutureWarning: The frame.append method is deprecated and will be removed from pandas in a future version. Use pandas.concat instead.\n",
      "  main_data = main_data.append(pd.DataFrame([row], columns=cols), ignore_index=True)\n",
      "/var/folders/rq/rl4qmvpx22jg0wx1l021ysr80000gn/T/ipykernel_7274/970580233.py:25: FutureWarning: The frame.append method is deprecated and will be removed from pandas in a future version. Use pandas.concat instead.\n",
      "  main_data = main_data.append(pd.DataFrame([row], columns=cols), ignore_index=True)\n",
      "/var/folders/rq/rl4qmvpx22jg0wx1l021ysr80000gn/T/ipykernel_7274/970580233.py:25: FutureWarning: The frame.append method is deprecated and will be removed from pandas in a future version. Use pandas.concat instead.\n",
      "  main_data = main_data.append(pd.DataFrame([row], columns=cols), ignore_index=True)\n",
      "/var/folders/rq/rl4qmvpx22jg0wx1l021ysr80000gn/T/ipykernel_7274/970580233.py:25: FutureWarning: The frame.append method is deprecated and will be removed from pandas in a future version. Use pandas.concat instead.\n",
      "  main_data = main_data.append(pd.DataFrame([row], columns=cols), ignore_index=True)\n"
     ]
    },
    {
     "name": "stderr",
     "output_type": "stream",
     "text": [
      "/var/folders/rq/rl4qmvpx22jg0wx1l021ysr80000gn/T/ipykernel_7274/970580233.py:25: FutureWarning: The frame.append method is deprecated and will be removed from pandas in a future version. Use pandas.concat instead.\n",
      "  main_data = main_data.append(pd.DataFrame([row], columns=cols), ignore_index=True)\n",
      "/var/folders/rq/rl4qmvpx22jg0wx1l021ysr80000gn/T/ipykernel_7274/970580233.py:25: FutureWarning: The frame.append method is deprecated and will be removed from pandas in a future version. Use pandas.concat instead.\n",
      "  main_data = main_data.append(pd.DataFrame([row], columns=cols), ignore_index=True)\n",
      "/var/folders/rq/rl4qmvpx22jg0wx1l021ysr80000gn/T/ipykernel_7274/970580233.py:25: FutureWarning: The frame.append method is deprecated and will be removed from pandas in a future version. Use pandas.concat instead.\n",
      "  main_data = main_data.append(pd.DataFrame([row], columns=cols), ignore_index=True)\n",
      "/var/folders/rq/rl4qmvpx22jg0wx1l021ysr80000gn/T/ipykernel_7274/970580233.py:25: FutureWarning: The frame.append method is deprecated and will be removed from pandas in a future version. Use pandas.concat instead.\n",
      "  main_data = main_data.append(pd.DataFrame([row], columns=cols), ignore_index=True)\n",
      "/var/folders/rq/rl4qmvpx22jg0wx1l021ysr80000gn/T/ipykernel_7274/970580233.py:25: FutureWarning: The frame.append method is deprecated and will be removed from pandas in a future version. Use pandas.concat instead.\n",
      "  main_data = main_data.append(pd.DataFrame([row], columns=cols), ignore_index=True)\n",
      "/var/folders/rq/rl4qmvpx22jg0wx1l021ysr80000gn/T/ipykernel_7274/970580233.py:25: FutureWarning: The frame.append method is deprecated and will be removed from pandas in a future version. Use pandas.concat instead.\n",
      "  main_data = main_data.append(pd.DataFrame([row], columns=cols), ignore_index=True)\n",
      "/var/folders/rq/rl4qmvpx22jg0wx1l021ysr80000gn/T/ipykernel_7274/970580233.py:25: FutureWarning: The frame.append method is deprecated and will be removed from pandas in a future version. Use pandas.concat instead.\n",
      "  main_data = main_data.append(pd.DataFrame([row], columns=cols), ignore_index=True)\n",
      "/var/folders/rq/rl4qmvpx22jg0wx1l021ysr80000gn/T/ipykernel_7274/970580233.py:25: FutureWarning: The frame.append method is deprecated and will be removed from pandas in a future version. Use pandas.concat instead.\n",
      "  main_data = main_data.append(pd.DataFrame([row], columns=cols), ignore_index=True)\n",
      "/var/folders/rq/rl4qmvpx22jg0wx1l021ysr80000gn/T/ipykernel_7274/970580233.py:25: FutureWarning: The frame.append method is deprecated and will be removed from pandas in a future version. Use pandas.concat instead.\n",
      "  main_data = main_data.append(pd.DataFrame([row], columns=cols), ignore_index=True)\n",
      "/var/folders/rq/rl4qmvpx22jg0wx1l021ysr80000gn/T/ipykernel_7274/970580233.py:25: FutureWarning: The frame.append method is deprecated and will be removed from pandas in a future version. Use pandas.concat instead.\n",
      "  main_data = main_data.append(pd.DataFrame([row], columns=cols), ignore_index=True)\n"
     ]
    }
   ],
   "source": [
    "incomplete = []\n",
    "for i in range(0, 100):\n",
    "    \n",
    "    with open(f\"Stock_Data_NSE/{stocks['Symbol'][i]}.txt\", \"r\", encoding=\"utf-8\") as f:\n",
    "        text = f.read()\n",
    "     \n",
    "    row = []\n",
    "    \n",
    "    row.append(stocks['Company Name'][i])\n",
    "    row.append(stocks['Symbol'][i])  \n",
    "    soup = BeautifulSoup(text, \"html.parser\")\n",
    "    ratio_soup = soup.find('div', 'company-ratios').find_all('li', 'flex flex-space-between')\n",
    "    \n",
    "    if len(ratio_soup) != 26:\n",
    "        incomplete.append(stocks['Symbol'][i])\n",
    "        continue\n",
    "    \n",
    "    for j in range(0, 26):\n",
    "        if j==2:\n",
    "            row.append(comma_remover_and_int_converter(ratio_soup[j].find_all('span', 'number')[0].text))\n",
    "            row.append(comma_remover_and_int_converter(ratio_soup[j].find_all('span', 'number')[1].text))\n",
    "        else:\n",
    "            row.append(comma_remover_and_int_converter(ratio_soup[j].find_all('span', 'number')[0].text))\n",
    "#         print(j)\n",
    "    main_data = main_data.append(pd.DataFrame([row], columns=cols), ignore_index=True)\n",
    "    \n",
    "#     print(i)"
   ]
  },
  {
   "cell_type": "code",
   "execution_count": 94,
   "id": "4354fbcf",
   "metadata": {},
   "outputs": [],
   "source": [
    "main_data.to_csv('main_data.csv')"
   ]
  },
  {
   "cell_type": "code",
   "execution_count": 95,
   "id": "2ac0976d",
   "metadata": {},
   "outputs": [
    {
     "data": {
      "text/plain": [
       "['SBILIFE', 'SBICARD', 'ICICIGI', 'IRCTC']"
      ]
     },
     "execution_count": 95,
     "metadata": {},
     "output_type": "execute_result"
    }
   ],
   "source": [
    "incomplete"
   ]
  },
  {
   "cell_type": "code",
   "execution_count": 96,
   "id": "83fc9bc4",
   "metadata": {},
   "outputs": [],
   "source": [
    "incomplete_csv = pd.Series(incomplete)\n",
    "incomplete_csv.to_csv('incomplete.csv')"
   ]
  },
  {
   "cell_type": "code",
   "execution_count": 97,
   "id": "2a9721bf",
   "metadata": {},
   "outputs": [
    {
     "data": {
      "text/plain": [
       "0    SBILIFE\n",
       "1    SBICARD\n",
       "2    ICICIGI\n",
       "3      IRCTC\n",
       "dtype: object"
      ]
     },
     "execution_count": 97,
     "metadata": {},
     "output_type": "execute_result"
    }
   ],
   "source": [
    "incomplete_csv"
   ]
  }
 ],
 "metadata": {
  "kernelspec": {
   "display_name": "Python 3 (ipykernel)",
   "language": "python",
   "name": "python3"
  },
  "language_info": {
   "codemirror_mode": {
    "name": "ipython",
    "version": 3
   },
   "file_extension": ".py",
   "mimetype": "text/x-python",
   "name": "python",
   "nbconvert_exporter": "python",
   "pygments_lexer": "ipython3",
   "version": "3.9.13"
  }
 },
 "nbformat": 4,
 "nbformat_minor": 5
}
